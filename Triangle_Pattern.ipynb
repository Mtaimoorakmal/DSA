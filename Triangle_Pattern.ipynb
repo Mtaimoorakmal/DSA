{
  "nbformat": 4,
  "nbformat_minor": 0,
  "metadata": {
    "colab": {
      "provenance": [],
      "authorship_tag": "ABX9TyOYe46X3TNdQt+xU8kB+Fu1",
      "include_colab_link": true
    },
    "kernelspec": {
      "name": "python3",
      "display_name": "Python 3"
    },
    "language_info": {
      "name": "python"
    }
  },
  "cells": [
    {
      "cell_type": "markdown",
      "metadata": {
        "id": "view-in-github",
        "colab_type": "text"
      },
      "source": [
        "<a href=\"https://colab.research.google.com/github/Mtaimoorakmal/DSA/blob/main/Triangle_Pattern.ipynb\" target=\"_parent\"><img src=\"https://colab.research.google.com/assets/colab-badge.svg\" alt=\"Open In Colab\"/></a>"
      ]
    },
    {
      "cell_type": "code",
      "source": [
        "num = int(input(\"enetr a num:\"))\n",
        "row = 1\n",
        "\n",
        "while row <= num:\n",
        "  # first Triangle\n",
        "    space  = num - row\n",
        "    while space:\n",
        "        print(\"*\", end=\" \")\n",
        "        space -= 1\n",
        "    # second triangle\n",
        "    col1 = 1\n",
        "    while col1<=row:\n",
        "        print(col1, end=\" \")\n",
        "        col1+=1\n",
        "    # third triangle\n",
        "    col2 = row-1\n",
        "    while col2:\n",
        "        print(col2, end=\" \")\n",
        "        col2-=1\n",
        "    print()\n",
        "\n",
        "    row += 1"
      ],
      "metadata": {
        "colab": {
          "base_uri": "https://localhost:8080/"
        },
        "id": "z2gm8KIZUvmW",
        "outputId": "a3ce3c3d-77c2-4fe9-a313-540f2716a133"
      },
      "execution_count": 15,
      "outputs": [
        {
          "output_type": "stream",
          "name": "stdout",
          "text": [
            "enetr a num:9\n",
            "* * * * * * * * 1 \n",
            "* * * * * * * 1 2 1 \n",
            "* * * * * * 1 2 3 2 1 \n",
            "* * * * * 1 2 3 4 3 2 1 \n",
            "* * * * 1 2 3 4 5 4 3 2 1 \n",
            "* * * 1 2 3 4 5 6 5 4 3 2 1 \n",
            "* * 1 2 3 4 5 6 7 6 5 4 3 2 1 \n",
            "* 1 2 3 4 5 6 7 8 7 6 5 4 3 2 1 \n",
            "1 2 3 4 5 6 7 8 9 8 7 6 5 4 3 2 1 \n"
          ]
        }
      ]
    },
    {
      "cell_type": "code",
      "source": [],
      "metadata": {
        "id": "i8lQgeXtU5kF"
      },
      "execution_count": null,
      "outputs": []
    }
  ]
}