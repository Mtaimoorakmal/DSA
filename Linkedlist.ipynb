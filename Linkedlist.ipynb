{
  "nbformat": 4,
  "nbformat_minor": 0,
  "metadata": {
    "colab": {
      "provenance": [],
      "authorship_tag": "ABX9TyPeazYu8MeqQmrPc8wleUJ2",
      "include_colab_link": true
    },
    "kernelspec": {
      "name": "python3",
      "display_name": "Python 3"
    },
    "language_info": {
      "name": "python"
    }
  },
  "cells": [
    {
      "cell_type": "markdown",
      "metadata": {
        "id": "view-in-github",
        "colab_type": "text"
      },
      "source": [
        "<a href=\"https://colab.research.google.com/github/Mtaimoorakmal/DSA/blob/main/Linkedlist.ipynb\" target=\"_parent\"><img src=\"https://colab.research.google.com/assets/colab-badge.svg\" alt=\"Open In Colab\"/></a>"
      ]
    },
    {
      "cell_type": "markdown",
      "source": [
        "#Linked List"
      ],
      "metadata": {
        "id": "fqmzO26aOX1W"
      }
    },
    {
      "cell_type": "code",
      "execution_count": 4,
      "metadata": {
        "colab": {
          "base_uri": "https://localhost:8080/"
        },
        "id": "xmMckZx797FB",
        "outputId": "e3570f3c-75b0-4830-ace7-461f9eca6333"
      },
      "outputs": [
        {
          "output_type": "stream",
          "name": "stdout",
          "text": [
            "10-->20-->30-->40-->50-->None\n"
          ]
        }
      ],
      "source": [
        "class Node:\n",
        "  def __init__(self , data):\n",
        "    self.data = data\n",
        "    self.next = None\n",
        "\n",
        "#create node values\n",
        "node1 = Node(10)\n",
        "node2 = Node(20)\n",
        "node3 = Node(30)\n",
        "node4 = Node(40)\n",
        "node5 = Node(50)\n",
        "\n",
        "#link the nodes:\n",
        "node1.next = node2\n",
        "node2.next = node3\n",
        "node3.next = node4\n",
        "node4.next = node5\n",
        "\n",
        "#check your linked list\n",
        "current = node1  #define a header of linked list i.e current\n",
        "while current != None:\n",
        "  print(current.data , end = \"-->\")\n",
        "  current = current.next\n",
        "print(\"None\")"
      ]
    }
  ]
}