{
 "cells": [
  {
   "cell_type": "code",
   "execution_count": 22,
   "metadata": {},
   "outputs": [
    {
     "name": "stdout",
     "output_type": "stream",
     "text": [
      "Sorted Array: \n",
      "[1, 3, 4, 7, 9]\n"
     ]
    }
   ],
   "source": [
    "# insertion Sort to sort an array\n",
    "# function \n",
    "def insertionSort(array):\n",
    "    for step in range(1, len(array)):\n",
    "        key = array[step]\n",
    "        j = step -1\n",
    "        # Compare key with each element on the left of it until an element smaller than it is found\n",
    "        # For descending order, change keyarray[j].  \n",
    "        while j>=0 and array[j]> key:\n",
    "            array[j+1] = array[j]\n",
    "            j= j-1\n",
    "\n",
    "    # Place key at after the element just smaller than it.\n",
    "        array[j + 1] = key\n",
    "\n",
    "A1 = [4,7,1,3,9]\n",
    "insertionSort(A1)\n",
    "print(\"Sorted Array: \")\n",
    "print(A1)"
   ]
  },
  {
   "cell_type": "code",
   "execution_count": 23,
   "metadata": {},
   "outputs": [
    {
     "name": "stdout",
     "output_type": "stream",
     "text": [
      " 5\n",
      " 6\n",
      " 11\n",
      " 12\n",
      " 13\n"
     ]
    }
   ],
   "source": [
    "arr = [12, 11, 13, 5, 6]\n",
    "insertionSort(arr)\n",
    "for i in range(len(arr)):\n",
    "\tprint (\"% d\" % arr[i])"
   ]
  },
  {
   "cell_type": "code",
   "execution_count": 24,
   "metadata": {},
   "outputs": [
    {
     "data": {
      "text/plain": [
       "[2, 4, 4, 6, 8, 9, 53, 77]"
      ]
     },
     "execution_count": 24,
     "metadata": {},
     "output_type": "execute_result"
    }
   ],
   "source": [
    "A2 = [4,9,8,6,2,4,77,53]\n",
    "insertionSort(A2)\n",
    "A2"
   ]
  }
 ],
 "metadata": {
  "kernelspec": {
   "display_name": "Python 3",
   "language": "python",
   "name": "python3"
  },
  "language_info": {
   "codemirror_mode": {
    "name": "ipython",
    "version": 3
   },
   "file_extension": ".py",
   "mimetype": "text/x-python",
   "name": "python",
   "nbconvert_exporter": "python",
   "pygments_lexer": "ipython3",
   "version": "3.11.1"
  }
 },
 "nbformat": 4,
 "nbformat_minor": 2
}
