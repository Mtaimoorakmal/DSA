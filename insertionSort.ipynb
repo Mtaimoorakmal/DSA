{
 "cells": [
  {
   "cell_type": "code",
   "execution_count": 21,
   "metadata": {},
   "outputs": [
    {
     "ename": "KeyboardInterrupt",
     "evalue": "",
     "output_type": "error",
     "traceback": [
      "\u001b[1;31m---------------------------------------------------------------------------\u001b[0m",
      "\u001b[1;31mKeyboardInterrupt\u001b[0m                         Traceback (most recent call last)",
      "\u001b[1;32mg:\\Coursera Courses data\\datascience\\DSA\\insertionSort.ipynb Cell 1\u001b[0m line \u001b[0;36m1\n\u001b[0;32m     <a href='vscode-notebook-cell:/g%3A/Coursera%20Courses%20data/datascience/DSA/insertionSort.ipynb#W0sZmlsZQ%3D%3D?line=14'>15</a>\u001b[0m         array[j \u001b[39m+\u001b[39m \u001b[39m1\u001b[39m] \u001b[39m=\u001b[39m key\n\u001b[0;32m     <a href='vscode-notebook-cell:/g%3A/Coursera%20Courses%20data/datascience/DSA/insertionSort.ipynb#W0sZmlsZQ%3D%3D?line=16'>17</a>\u001b[0m A1 \u001b[39m=\u001b[39m [\u001b[39m4\u001b[39m,\u001b[39m7\u001b[39m,\u001b[39m1\u001b[39m,\u001b[39m3\u001b[39m,\u001b[39m9\u001b[39m]\n\u001b[1;32m---> <a href='vscode-notebook-cell:/g%3A/Coursera%20Courses%20data/datascience/DSA/insertionSort.ipynb#W0sZmlsZQ%3D%3D?line=17'>18</a>\u001b[0m insertionSort(A1)\n\u001b[0;32m     <a href='vscode-notebook-cell:/g%3A/Coursera%20Courses%20data/datascience/DSA/insertionSort.ipynb#W0sZmlsZQ%3D%3D?line=18'>19</a>\u001b[0m \u001b[39mprint\u001b[39m(\u001b[39m\"\u001b[39m\u001b[39mSorted Array: \u001b[39m\u001b[39m\"\u001b[39m)\n\u001b[0;32m     <a href='vscode-notebook-cell:/g%3A/Coursera%20Courses%20data/datascience/DSA/insertionSort.ipynb#W0sZmlsZQ%3D%3D?line=19'>20</a>\u001b[0m \u001b[39mprint\u001b[39m(A1)\n",
      "\u001b[1;32mg:\\Coursera Courses data\\datascience\\DSA\\insertionSort.ipynb Cell 1\u001b[0m line \u001b[0;36m9\n\u001b[0;32m      <a href='vscode-notebook-cell:/g%3A/Coursera%20Courses%20data/datascience/DSA/insertionSort.ipynb#W0sZmlsZQ%3D%3D?line=5'>6</a>\u001b[0m     j \u001b[39m=\u001b[39m step \u001b[39m-\u001b[39m\u001b[39m1\u001b[39m\n\u001b[0;32m      <a href='vscode-notebook-cell:/g%3A/Coursera%20Courses%20data/datascience/DSA/insertionSort.ipynb#W0sZmlsZQ%3D%3D?line=6'>7</a>\u001b[0m     \u001b[39m# Compare key with each element on the left of it until an element smaller than it is found\u001b[39;00m\n\u001b[0;32m      <a href='vscode-notebook-cell:/g%3A/Coursera%20Courses%20data/datascience/DSA/insertionSort.ipynb#W0sZmlsZQ%3D%3D?line=7'>8</a>\u001b[0m     \u001b[39m# For descending order, change keyarray[j].  \u001b[39;00m\n\u001b[1;32m----> <a href='vscode-notebook-cell:/g%3A/Coursera%20Courses%20data/datascience/DSA/insertionSort.ipynb#W0sZmlsZQ%3D%3D?line=8'>9</a>\u001b[0m     \u001b[39mwhile\u001b[39;00m j\u001b[39m>\u001b[39m\u001b[39m=\u001b[39m\u001b[39m0\u001b[39m \u001b[39mand\u001b[39;00m array[j]\u001b[39m>\u001b[39m key:\n\u001b[0;32m     <a href='vscode-notebook-cell:/g%3A/Coursera%20Courses%20data/datascience/DSA/insertionSort.ipynb#W0sZmlsZQ%3D%3D?line=9'>10</a>\u001b[0m         \u001b[39m# array[j+1] = array[j]\u001b[39;00m\n\u001b[0;32m     <a href='vscode-notebook-cell:/g%3A/Coursera%20Courses%20data/datascience/DSA/insertionSort.ipynb#W0sZmlsZQ%3D%3D?line=10'>11</a>\u001b[0m         array[key] \u001b[39m=\u001b[39m array[j]\n\u001b[0;32m     <a href='vscode-notebook-cell:/g%3A/Coursera%20Courses%20data/datascience/DSA/insertionSort.ipynb#W0sZmlsZQ%3D%3D?line=11'>12</a>\u001b[0m         \u001b[39m# j= j-1\u001b[39;00m\n\u001b[0;32m     <a href='vscode-notebook-cell:/g%3A/Coursera%20Courses%20data/datascience/DSA/insertionSort.ipynb#W0sZmlsZQ%3D%3D?line=12'>13</a>\u001b[0m \n\u001b[0;32m     <a href='vscode-notebook-cell:/g%3A/Coursera%20Courses%20data/datascience/DSA/insertionSort.ipynb#W0sZmlsZQ%3D%3D?line=13'>14</a>\u001b[0m \u001b[39m# Place key at after the element just smaller than it.\u001b[39;00m\n",
      "\u001b[1;31mKeyboardInterrupt\u001b[0m: "
     ]
    }
   ],
   "source": [
    "# insertion Sort to sort an array\n",
    "# function \n",
    "def insertionSort(array):\n",
    "    for step in range(1, len(array)):\n",
    "        key = array[step]\n",
    "        j = step -1\n",
    "        # Compare key with each element on the left of it until an element smaller than it is found\n",
    "        # For descending order, change keyarray[j].  \n",
    "        while j>=0 and array[j]> key:\n",
    "            array[j+1] = array[j]\n",
    "            j= j-1\n",
    "\n",
    "    # Place key at after the element just smaller than it.\n",
    "        array[j + 1] = key\n",
    "\n",
    "A1 = [4,7,1,3,9]\n",
    "insertionSort(A1)\n",
    "print(\"Sorted Array: \")\n",
    "print(A1)"
   ]
  },
  {
   "cell_type": "code",
   "execution_count": 15,
   "metadata": {},
   "outputs": [
    {
     "name": "stdout",
     "output_type": "stream",
     "text": [
      "Sorted Array in Ascending Order:\n",
      "[1, 3, 4, 5, 9]\n"
     ]
    }
   ],
   "source": []
  },
  {
   "cell_type": "code",
   "execution_count": null,
   "metadata": {},
   "outputs": [],
   "source": []
  }
 ],
 "metadata": {
  "kernelspec": {
   "display_name": "Python 3",
   "language": "python",
   "name": "python3"
  },
  "language_info": {
   "codemirror_mode": {
    "name": "ipython",
    "version": 3
   },
   "file_extension": ".py",
   "mimetype": "text/x-python",
   "name": "python",
   "nbconvert_exporter": "python",
   "pygments_lexer": "ipython3",
   "version": "3.11.1"
  }
 },
 "nbformat": 4,
 "nbformat_minor": 2
}
