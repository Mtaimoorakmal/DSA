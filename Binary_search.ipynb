{
  "nbformat": 4,
  "nbformat_minor": 0,
  "metadata": {
    "colab": {
      "provenance": [],
      "authorship_tag": "ABX9TyNTQJ6uoKfU+h11Jsuvr4QR",
      "include_colab_link": true
    },
    "kernelspec": {
      "name": "python3",
      "display_name": "Python 3"
    },
    "language_info": {
      "name": "python"
    }
  },
  "cells": [
    {
      "cell_type": "markdown",
      "metadata": {
        "id": "view-in-github",
        "colab_type": "text"
      },
      "source": [
        "<a href=\"https://colab.research.google.com/github/Mtaimoorakmal/DSA/blob/main/Binary_search.ipynb\" target=\"_parent\"><img src=\"https://colab.research.google.com/assets/colab-badge.svg\" alt=\"Open In Colab\"/></a>"
      ]
    },
    {
      "cell_type": "code",
      "execution_count": 2,
      "metadata": {
        "id": "xmMckZx797FB"
      },
      "outputs": [],
      "source": [
        "def binary_search(array , target):\n",
        "  low , high = 0 , len(array)  -1\n",
        "\n",
        "  while low <= high:\n",
        "\n",
        "    mid = (low+high) // 2\n",
        "\n",
        "    mid_element = array[mid]\n",
        "\n",
        "    if mid_element == target:\n",
        "      return mid\n",
        "\n",
        "    elif mid_element < target :\n",
        "      low = mid + 1 # discard the left half of the array\n",
        "\n",
        "    else:\n",
        "      high = mid -1\n",
        "\n",
        "  return -1"
      ]
    },
    {
      "cell_type": "markdown",
      "source": [
        "#Test Bianry_search"
      ],
      "metadata": {
        "id": "MivJ84qK-rOi"
      }
    },
    {
      "cell_type": "markdown",
      "source": [
        "example 1\n"
      ],
      "metadata": {
        "id": "TpRqcsfz-zNv"
      }
    },
    {
      "cell_type": "code",
      "source": [
        "sorted_array = [1,2,3,4,5,6]\n",
        "target_element = 3\n",
        "\n",
        "result = binary_search(sorted_array , target_element)\n",
        "\n",
        "if result != -1:\n",
        "    print(f\"Element {target_element} found at index {result}.\")\n",
        "else:\n",
        "    print(f\"Element {target_element} not found in the array.\")"
      ],
      "metadata": {
        "colab": {
          "base_uri": "https://localhost:8080/"
        },
        "id": "7apXMx9k-mM9",
        "outputId": "9eb68c55-b800-4593-92aa-059eb35a0aee"
      },
      "execution_count": 6,
      "outputs": [
        {
          "output_type": "stream",
          "name": "stdout",
          "text": [
            "Element 3 found at index 2.\n"
          ]
        }
      ]
    },
    {
      "cell_type": "markdown",
      "source": [
        "Exampel 2"
      ],
      "metadata": {
        "id": "aIhqJJoz_S9X"
      }
    },
    {
      "cell_type": "code",
      "source": [
        "sorted_array = [14, 66, 151, 235, 260, 370, 470, 476, 523, 544, 604, 626, 635, 639, 836, 837, 868, 995]\n",
        "target_element = 639\n",
        "\n",
        "result = binary_search(sorted_array , target_element)\n",
        "\n",
        "if result != -1:\n",
        "    print(f\"Element {target_element} found at index {result}.\")\n",
        "else:\n",
        "    print(f\"Element {target_element} not found in the array.\")"
      ],
      "metadata": {
        "colab": {
          "base_uri": "https://localhost:8080/"
        },
        "id": "l09sep7z-7xx",
        "outputId": "d2a67b7c-0aa4-4c82-ee58-13d7123cfe74"
      },
      "execution_count": 7,
      "outputs": [
        {
          "output_type": "stream",
          "name": "stdout",
          "text": [
            "Element 639 found at index 13.\n"
          ]
        }
      ]
    },
    {
      "cell_type": "code",
      "source": [],
      "metadata": {
        "id": "ATXC2hgn_RM7"
      },
      "execution_count": null,
      "outputs": []
    }
  ]
}